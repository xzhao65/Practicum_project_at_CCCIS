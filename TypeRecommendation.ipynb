{
 "cells": [
  {
   "cell_type": "code",
   "execution_count": null,
   "metadata": {},
   "outputs": [],
   "source": [
    "import numpy as np\n",
    "import pandas as pd\n",
    "import re\n",
    "import datetime\n",
    "from datetime import date\n",
    "import matplotlib.mlab as mlab\n",
    "import matplotlib.pyplot as pyplot\n",
    "import math"
   ]
  },
  {
   "cell_type": "markdown",
   "metadata": {},
   "source": [
    "## Load log data and tag data"
   ]
  },
  {
   "cell_type": "code",
   "execution_count": null,
   "metadata": {},
   "outputs": [],
   "source": [
    "logDF = pd.read_csv('./dataframes/historicLogData.csv')\n",
    "tagDF = pd.read_csv('./dataframes/tagData.csv')"
   ]
  },
  {
   "cell_type": "code",
   "execution_count": null,
   "metadata": {},
   "outputs": [],
   "source": [
    "logDF=logDF.dropna()"
   ]
  },
  {
   "cell_type": "code",
   "execution_count": null,
   "metadata": {},
   "outputs": [],
   "source": [
    "logDF.head()"
   ]
  },
  {
   "cell_type": "code",
   "execution_count": null,
   "metadata": {},
   "outputs": [],
   "source": [
    "tagDF.head()"
   ]
  },
  {
   "cell_type": "markdown",
   "metadata": {},
   "source": [
    "## Prepare data for the aggregation\n",
    "#### (delete -1s)"
   ]
  },
  {
   "cell_type": "code",
   "execution_count": null,
   "metadata": {},
   "outputs": [],
   "source": [
    "badData = logDF[logDF.usage_cpu==-1]"
   ]
  },
  {
   "cell_type": "code",
   "execution_count": null,
   "metadata": {},
   "outputs": [],
   "source": [
    "# lets see the distribution\n",
    "b=badData.groupby('instance', as_index=False).agg('count')\n",
    "b"
   ]
  },
  {
   "cell_type": "code",
   "execution_count": null,
   "metadata": {},
   "outputs": [],
   "source": [
    "logDF=logDF[logDF.usage_cpu!=-1]"
   ]
  },
  {
   "cell_type": "markdown",
   "metadata": {},
   "source": [
    "## Max and count times > x % throughout whole time period"
   ]
  },
  {
   "cell_type": "code",
   "execution_count": null,
   "metadata": {},
   "outputs": [],
   "source": [
    "aggregations = {\n",
    "    'usage_cpu' : {\n",
    "        'overall_avg':'mean',\n",
    "        '95%p': lambda x: np.percentile(x, 95),\n",
    "        'median': 'median',\n",
    "        'overall_std':'std',\n",
    "        'max_cpu': 'max',\n",
    "        'p_over40': lambda x: (sum(x>40)/len(x))*100       # percentage of times that usage is over 40%\n",
    "    }  \n",
    "}"
   ]
  },
  {
   "cell_type": "code",
   "execution_count": null,
   "metadata": {
    "scrolled": true
   },
   "outputs": [],
   "source": [
    "cpu_stats=logDF.groupby('instance', as_index=False).agg(aggregations)   # as_index=F to drop extra row indexes\n",
    "cpu_stats.columns = cpu_stats.columns.droplevel(level=0)                  # drop extra row indexes\n",
    "\n",
    "cpu_stats.rename(columns={'': 'instance'}, inplace=True)\n",
    "cpu_stats"
   ]
  },
  {
   "cell_type": "code",
   "execution_count": null,
   "metadata": {},
   "outputs": [],
   "source": [
    "cpu_stats.describe()"
   ]
  },
  {
   "cell_type": "code",
   "execution_count": null,
   "metadata": {},
   "outputs": [],
   "source": [
    "(cpu_stats[cpu_stats['95%p']>50])    # the ones with 95th percentile over 50%"
   ]
  },
  {
   "cell_type": "markdown",
   "metadata": {},
   "source": [
    "## Binning every quarter"
   ]
  },
  {
   "cell_type": "code",
   "execution_count": null,
   "metadata": {},
   "outputs": [],
   "source": [
    "x = cpu_stats['95%p']\n",
    "num_bins = 4                          \n",
    "(n,bins,patches)=pyplot.hist(x, num_bins, facecolor='blue', alpha=0.5)\n",
    "pyplot.show()"
   ]
  },
  {
   "cell_type": "code",
   "execution_count": null,
   "metadata": {},
   "outputs": [],
   "source": [
    "n"
   ]
  },
  {
   "cell_type": "markdown",
   "metadata": {},
   "source": [
    "## Binning every 5% usage"
   ]
  },
  {
   "cell_type": "code",
   "execution_count": null,
   "metadata": {},
   "outputs": [],
   "source": [
    "num_bins = 20\n",
    "(n,bins,patches)=pyplot.hist(x, num_bins, facecolor='blue')\n",
    "pyplot.xlabel('95th percentile of cpu usage (%)')\n",
    "pyplot.ylabel('number of instances')\n",
    "pyplot.grid(True)\n",
    "pyplot.title('Histogram of 95th percentile')\n",
    "pyplot.savefig('./dataframes/95p')\n",
    "pyplot.show()"
   ]
  },
  {
   "cell_type": "code",
   "execution_count": null,
   "metadata": {},
   "outputs": [],
   "source": [
    "n"
   ]
  },
  {
   "cell_type": "markdown",
   "metadata": {},
   "source": [
    "## Merge log statistics with tag data"
   ]
  },
  {
   "cell_type": "code",
   "execution_count": null,
   "metadata": {
    "scrolled": true
   },
   "outputs": [],
   "source": [
    "cpu_data = pd.merge(tagDF, cpu_stats, how='inner', left_on='Host', right_on='instance')\n",
    "cpu_data.head()"
   ]
  },
  {
   "cell_type": "code",
   "execution_count": null,
   "metadata": {},
   "outputs": [],
   "source": [
    "# Remove instance column\n",
    "cpu_data.drop('instance', axis=1, inplace=True)"
   ]
  },
  {
   "cell_type": "code",
   "execution_count": null,
   "metadata": {},
   "outputs": [],
   "source": [
    "# Add admin or no admin column (factor variable)\n",
    "# cpu_data['adm']=cpu_data.Host.apply(lambda x: 1 if 'adm' in x else 0)"
   ]
  },
  {
   "cell_type": "markdown",
   "metadata": {},
   "source": [
    "## Add instance type"
   ]
  },
  {
   "cell_type": "code",
   "execution_count": null,
   "metadata": {},
   "outputs": [],
   "source": [
    "typeDF = pd.read_csv('./dataframes/instanceData.csv')\n",
    "typeDF = typeDF[['Host','type']]\n",
    "cpu_data = pd.merge(cpu_data, typeDF, how='inner', on='Host')      "
   ]
  },
  {
   "cell_type": "code",
   "execution_count": null,
   "metadata": {
    "scrolled": true
   },
   "outputs": [],
   "source": [
    "cpu_data.head()"
   ]
  },
  {
   "cell_type": "code",
   "execution_count": null,
   "metadata": {
    "scrolled": true
   },
   "outputs": [],
   "source": [
    "cpu_data.describe()"
   ]
  },
  {
   "cell_type": "code",
   "execution_count": null,
   "metadata": {},
   "outputs": [],
   "source": [
    "# cpu_data.to_csv('./dataframes/allData.csv',sep=',',index=False, encoding=\"utf-8\")"
   ]
  },
  {
   "cell_type": "markdown",
   "metadata": {},
   "source": [
    "## Downgrade decision rule\n",
    "#####      0-25%    -> 1/4 cpus\n",
    "#####      25-50%  -> 1/2\n",
    "#####      50-75%  -> 3/4\n",
    "#####      75-100% -> consider upgrade"
   ]
  },
  {
   "cell_type": "code",
   "execution_count": null,
   "metadata": {},
   "outputs": [],
   "source": [
    "cpu_data['downgrade']=cpu_data['95%p'].apply(lambda x: 1/4 if x<25 else 1/2 if x<50 else 3/4 if x<75 else 1)"
   ]
  },
  {
   "cell_type": "code",
   "execution_count": null,
   "metadata": {},
   "outputs": [],
   "source": [
    "cpu_data"
   ]
  },
  {
   "cell_type": "markdown",
   "metadata": {},
   "source": [
    "## Recommend new type"
   ]
  },
  {
   "cell_type": "code",
   "execution_count": null,
   "metadata": {},
   "outputs": [],
   "source": [
    "aws = pd.read_excel('./AWS instances.xlsx')"
   ]
  },
  {
   "cell_type": "code",
   "execution_count": null,
   "metadata": {},
   "outputs": [],
   "source": [
    "aws=aws[['Instance Type','vCPU*','Memory (GiB)']]\n",
    "aws.columns=['type','cpus','memory']"
   ]
  },
  {
   "cell_type": "code",
   "execution_count": null,
   "metadata": {
    "scrolled": true
   },
   "outputs": [],
   "source": [
    "aws=aws.dropna()"
   ]
  },
  {
   "cell_type": "code",
   "execution_count": null,
   "metadata": {},
   "outputs": [],
   "source": [
    "rec = pd.merge(cpu_data, aws, how='inner',on='type')\n",
    "rec"
   ]
  },
  {
   "cell_type": "code",
   "execution_count": null,
   "metadata": {
    "scrolled": true
   },
   "outputs": [],
   "source": [
    "rec['rec_cpus']=(rec.downgrade*rec.cpus)\n",
    "rec.rec_cpus=rec.rec_cpus.apply(lambda x: math.ceil(x))\n",
    "rec"
   ]
  },
  {
   "cell_type": "code",
   "execution_count": null,
   "metadata": {},
   "outputs": [],
   "source": [
    "rec.rec_cpus.unique()"
   ]
  },
  {
   "cell_type": "code",
   "execution_count": null,
   "metadata": {},
   "outputs": [],
   "source": [
    "aws['family']=aws.type.apply(lambda x: x.split('.')[0])"
   ]
  },
  {
   "cell_type": "markdown",
   "metadata": {},
   "source": [
    "## Recommend Type function \n",
    "##### (inside same family, if >1 option with = cpu then choose one with most memory)"
   ]
  },
  {
   "cell_type": "code",
   "execution_count": null,
   "metadata": {},
   "outputs": [],
   "source": [
    "def recommendType(t, cpus):\n",
    "    family = t.split('.')[0]\n",
    "    test=aws[aws['family']==family]\n",
    "    if cpus==1:\n",
    "        cpus=min(test.cpus)\n",
    "    test=test[test['cpus']==cpus]\n",
    "    if len(test)>1:\n",
    "        test=test[test.memory==max(test.memory)]\n",
    "    if len(test)==0:\n",
    "        return(t)\n",
    "    test.reset_index(inplace=True)   \n",
    "    rec_type = test.type[0]    \n",
    "    return(test.type)"
   ]
  },
  {
   "cell_type": "code",
   "execution_count": null,
   "metadata": {},
   "outputs": [],
   "source": [
    "rec['recom_type']=rec.apply(axis=1, func=lambda x: recommendType(x.type,x.rec_cpus))"
   ]
  },
  {
   "cell_type": "markdown",
   "metadata": {},
   "source": [
    "### Instances recommended to change their type"
   ]
  },
  {
   "cell_type": "code",
   "execution_count": null,
   "metadata": {
    "scrolled": true
   },
   "outputs": [],
   "source": [
    "rec[rec.type!=rec.recom_type]"
   ]
  },
  {
   "cell_type": "code",
   "execution_count": null,
   "metadata": {},
   "outputs": [],
   "source": [
    "cpu_data.type.unique()"
   ]
  },
  {
   "cell_type": "code",
   "execution_count": null,
   "metadata": {
    "scrolled": true
   },
   "outputs": [],
   "source": [
    "rec.recom_type.unique()"
   ]
  },
  {
   "cell_type": "code",
   "execution_count": null,
   "metadata": {
    "scrolled": true
   },
   "outputs": [],
   "source": [
    "rec[rec.type=='r3.large']"
   ]
  },
  {
   "cell_type": "code",
   "execution_count": null,
   "metadata": {},
   "outputs": [],
   "source": [
    "rec[rec.type=='r3.xlarge']"
   ]
  },
  {
   "cell_type": "code",
   "execution_count": null,
   "metadata": {},
   "outputs": [],
   "source": [
    "rec.to_csv('./dataframes/recommendations.csv')"
   ]
  },
  {
   "cell_type": "markdown",
   "metadata": {},
   "source": [
    "## Recommended to upgrade"
   ]
  },
  {
   "cell_type": "code",
   "execution_count": null,
   "metadata": {
    "scrolled": true
   },
   "outputs": [],
   "source": [
    "rec[rec.downgrade==1]"
   ]
  },
  {
   "cell_type": "code",
   "execution_count": null,
   "metadata": {},
   "outputs": [],
   "source": [
    "aux=rec[rec.downgrade==1]\n",
    "x = aux['95%p']\n",
    "num_bins = 4\n",
    "(n,bins,patches)=pyplot.hist(x, num_bins, facecolor='blue', alpha=0.5)\n",
    "pyplot.show()"
   ]
  },
  {
   "cell_type": "markdown",
   "metadata": {},
   "source": [
    "## Cost Savings"
   ]
  },
  {
   "cell_type": "code",
   "execution_count": null,
   "metadata": {
    "scrolled": true
   },
   "outputs": [],
   "source": [
    "awsPrice = pd.read_csv('./awsPrices.csv')\n",
    "awsPrice"
   ]
  },
  {
   "cell_type": "code",
   "execution_count": null,
   "metadata": {},
   "outputs": [],
   "source": [
    "awsPrice=awsPrice[['type','Price3']]"
   ]
  },
  {
   "cell_type": "code",
   "execution_count": null,
   "metadata": {},
   "outputs": [],
   "source": [
    "downgraded = rec[rec.type!=rec.recom_type]"
   ]
  },
  {
   "cell_type": "code",
   "execution_count": null,
   "metadata": {},
   "outputs": [],
   "source": [
    "len(downgraded)  # how many were really recommended to downgrade"
   ]
  },
  {
   "cell_type": "code",
   "execution_count": null,
   "metadata": {
    "scrolled": true
   },
   "outputs": [],
   "source": [
    "rec"
   ]
  },
  {
   "cell_type": "code",
   "execution_count": null,
   "metadata": {},
   "outputs": [],
   "source": [
    "before = rec.groupby('type', as_index=False).agg('count')\n",
    "before = before[['type','cpus']]\n",
    "before.columns = ['type', 'count']\n",
    "before"
   ]
  },
  {
   "cell_type": "code",
   "execution_count": null,
   "metadata": {},
   "outputs": [],
   "source": [
    "beforeCost = pd.merge(before, awsPrice, how='inner', on='type')\n",
    "beforeCost"
   ]
  },
  {
   "cell_type": "code",
   "execution_count": null,
   "metadata": {},
   "outputs": [],
   "source": [
    "beforeCost['total_b']=beforeCost['count']*beforeCost['Price3']\n",
    "beforeCost"
   ]
  },
  {
   "cell_type": "code",
   "execution_count": null,
   "metadata": {},
   "outputs": [],
   "source": [
    "after = rec.groupby('recom_type', as_index=False).agg('count')\n",
    "after = after[['recom_type','cpus']]\n",
    "after.columns = ['type', 'count']\n",
    "after"
   ]
  },
  {
   "cell_type": "code",
   "execution_count": null,
   "metadata": {},
   "outputs": [],
   "source": [
    "afterCost = pd.merge(after, awsPrice, how='inner', on='type')\n",
    "afterCost['total_b']=afterCost['count']*afterCost['Price3']\n",
    "afterCost"
   ]
  },
  {
   "cell_type": "code",
   "execution_count": null,
   "metadata": {},
   "outputs": [],
   "source": [
    "beforeCost"
   ]
  },
  {
   "cell_type": "code",
   "execution_count": null,
   "metadata": {},
   "outputs": [],
   "source": [
    "total_b = sum(beforeCost.total_b)\n",
    "total_a = sum(afterCost.total_b)\n",
    "savings = total_b-total_a\n",
    "p_savings = round(savings/total_b*100,2)\n",
    "print('The total cost before was: ',total_b,'\\nThe total cost after is: ',total_a,'\\nSavings are: ', savings, ' (',p_savings,'%) ')"
   ]
  }
 ],
 "metadata": {
  "kernelspec": {
   "display_name": "Python 3",
   "language": "python",
   "name": "python3"
  },
  "language_info": {
   "codemirror_mode": {
    "name": "ipython",
    "version": 3
   },
   "file_extension": ".py",
   "mimetype": "text/x-python",
   "name": "python",
   "nbconvert_exporter": "python",
   "pygments_lexer": "ipython3",
   "version": "3.6.5"
  }
 },
 "nbformat": 4,
 "nbformat_minor": 2
}
