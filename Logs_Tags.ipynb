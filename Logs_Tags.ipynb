{
 "cells": [
  {
   "cell_type": "code",
   "execution_count": null,
   "metadata": {},
   "outputs": [],
   "source": [
    "import numpy as np\n",
    "import pandas as pd\n",
    "# import json\n",
    "# from pathlib import Path\n",
    "import re\n",
    "import datetime\n",
    "from datetime import date"
   ]
  },
  {
   "cell_type": "markdown",
   "metadata": {},
   "source": [
    "## Load log data and tag data"
   ]
  },
  {
   "cell_type": "code",
   "execution_count": null,
   "metadata": {},
   "outputs": [],
   "source": [
    "logDF = pd.read_csv('./dataframes/historicLogData.csv')\n",
    "tagDF = pd.read_csv('./dataframes/tagData.csv')"
   ]
  },
  {
   "cell_type": "code",
   "execution_count": null,
   "metadata": {},
   "outputs": [],
   "source": [
    "logDF=logDF.fillna(0)"
   ]
  },
  {
   "cell_type": "code",
   "execution_count": null,
   "metadata": {},
   "outputs": [],
   "source": [
    "logDF.head()"
   ]
  },
  {
   "cell_type": "code",
   "execution_count": null,
   "metadata": {},
   "outputs": [],
   "source": [
    "tagDF.head()"
   ]
  },
  {
   "cell_type": "markdown",
   "metadata": {},
   "source": [
    "## Prepare data for the aggregation\n",
    "#### (extract necessary date info)"
   ]
  },
  {
   "cell_type": "code",
   "execution_count": null,
   "metadata": {},
   "outputs": [],
   "source": [
    "logDF.date = logDF.timestamp.apply(lambda x: datetime.date.fromtimestamp(x))"
   ]
  },
  {
   "cell_type": "code",
   "execution_count": null,
   "metadata": {},
   "outputs": [],
   "source": [
    "type(logDF.date[1])"
   ]
  },
  {
   "cell_type": "code",
   "execution_count": null,
   "metadata": {
    "scrolled": true
   },
   "outputs": [],
   "source": [
    "logDF['calendar'] = logDF.date.apply(lambda x: x.isocalendar())\n",
    "logDF['week'] = logDF.calendar.apply(lambda x: x[1])\n",
    "logDF['month'] = logDF.calendar.apply(lambda x: x[2])\n",
    "\n",
    "logDF.head()\n",
    "# logDF.calendar[1]\n",
    "# returns tupple (ISO year, ISO week number, ISO weekday)"
   ]
  },
  {
   "cell_type": "code",
   "execution_count": null,
   "metadata": {},
   "outputs": [],
   "source": [
    "# logDF['max_cpu']=(logDF.groupby('instance', as_index=False).agg({\"usage_cpu\": \"max\"}))['usage_cpu']"
   ]
  },
  {
   "cell_type": "markdown",
   "metadata": {},
   "source": [
    "## Max and count times > x % throughout whole time period"
   ]
  },
  {
   "cell_type": "code",
   "execution_count": null,
   "metadata": {},
   "outputs": [],
   "source": [
    "aggregations = {\n",
    "    'usage_cpu' : {\n",
    "        'overall_avg':'mean',\n",
    "        'max_cpu': 'max',\n",
    "        'n_over80': lambda x: sum(x>80),\n",
    "        'p_over40': lambda x: (sum(x>40)/len(x))*100       # percentage of times that usage is over 40%\n",
    "    },\n",
    "    'usage_nwin':{\n",
    "        'max_nwin': 'max'\n",
    "    },\n",
    "    'usage_nwout':{\n",
    "        'max_nwout': 'max'\n",
    "    },    \n",
    "}"
   ]
  },
  {
   "cell_type": "code",
   "execution_count": null,
   "metadata": {
    "scrolled": true
   },
   "outputs": [],
   "source": [
    "grouped=logDF.groupby('instance', as_index=False).agg(aggregations)   # as_index=F to drop extra row indexes\n",
    "grouped.columns = grouped.columns.droplevel(level=0)                  # drop extra row indexes\n",
    "\n",
    "grouped.rename(columns={'': 'instance'}, inplace=True)\n",
    "grouped"
   ]
  },
  {
   "cell_type": "markdown",
   "metadata": {},
   "source": [
    "## Daily averages"
   ]
  },
  {
   "cell_type": "code",
   "execution_count": null,
   "metadata": {},
   "outputs": [],
   "source": [
    "# average per instance and day \n",
    "grouped2 = logDF.groupby(['instance','date'], as_index=False).agg({'usage_cpu':'mean',\n",
    "                                                                  'usage_nwin': 'mean',\n",
    "                                                                  'usage_nwout': 'mean'})\n",
    "grouped2.head()"
   ]
  },
  {
   "cell_type": "code",
   "execution_count": null,
   "metadata": {},
   "outputs": [],
   "source": [
    "# daily avg is the avg of all the avgs per day\n",
    "grouped3 = grouped2.groupby(['instance'], as_index=False).agg({'usage_cpu':'mean',\n",
    "                                                                  'usage_nwin': 'mean',\n",
    "                                                                  'usage_nwout': 'mean'})"
   ]
  },
  {
   "cell_type": "code",
   "execution_count": null,
   "metadata": {},
   "outputs": [],
   "source": [
    "grouped3.columns=['instance', 'cpu_daily_avg', 'nwin_daily_avg', 'nwout_daily_avg']\n",
    "grouped3.head()"
   ]
  },
  {
   "cell_type": "markdown",
   "metadata": {},
   "source": [
    "## Weekly averages"
   ]
  },
  {
   "cell_type": "code",
   "execution_count": null,
   "metadata": {
    "scrolled": true
   },
   "outputs": [],
   "source": [
    "grouped4 = logDF.groupby(['instance','week'], as_index=False).agg({'usage_cpu':'mean',\n",
    "                                                                  'usage_nwin': 'mean',\n",
    "                                                                  'usage_nwout': 'mean'})\n",
    "grouped4.head()"
   ]
  },
  {
   "cell_type": "code",
   "execution_count": null,
   "metadata": {},
   "outputs": [],
   "source": [
    "grouped5 = grouped4.groupby(['instance'], as_index=False).agg({'usage_cpu':'mean',\n",
    "                                                                  'usage_nwin': 'mean',\n",
    "                                                                  'usage_nwout': 'mean'})"
   ]
  },
  {
   "cell_type": "code",
   "execution_count": null,
   "metadata": {},
   "outputs": [],
   "source": [
    "grouped5.columns=['instance', 'cpu_weekly_avg', 'nwin_weekly_avg', 'nwout_weekly_avg']\n",
    "grouped5.head()"
   ]
  },
  {
   "cell_type": "markdown",
   "metadata": {},
   "source": [
    "## Monthly averages"
   ]
  },
  {
   "cell_type": "code",
   "execution_count": null,
   "metadata": {},
   "outputs": [],
   "source": [
    "grouped6 = logDF.groupby(['instance','month'], as_index=False).agg({'usage_cpu':'mean',\n",
    "                                                                  'usage_nwin': 'mean',\n",
    "                                                                  'usage_nwout': 'mean'})\n",
    "grouped6.head()"
   ]
  },
  {
   "cell_type": "code",
   "execution_count": null,
   "metadata": {},
   "outputs": [],
   "source": [
    "grouped7 = grouped6.groupby(['instance'], as_index=False).agg({'usage_cpu':'mean',\n",
    "                                                                  'usage_nwin': 'mean',\n",
    "                                                                  'usage_nwout': 'mean'})"
   ]
  },
  {
   "cell_type": "code",
   "execution_count": null,
   "metadata": {},
   "outputs": [],
   "source": [
    "grouped7.columns=['instance', 'cpu_monthly_avg', 'nwin_monthly_avg', 'nwout_monthly_avg']\n",
    "grouped7.head()"
   ]
  },
  {
   "cell_type": "markdown",
   "metadata": {},
   "source": [
    "## Merge log data with new statistics"
   ]
  },
  {
   "cell_type": "code",
   "execution_count": null,
   "metadata": {},
   "outputs": [],
   "source": [
    "logs = pd.merge(grouped, grouped3, how='inner', on= ['instance'])\n",
    "logs = pd.merge(logs, grouped5, how='inner', on= ['instance'])\n",
    "logs = pd.merge(logs, grouped7, how='inner', on= ['instance'])\n",
    "logs.head()\n"
   ]
  },
  {
   "cell_type": "code",
   "execution_count": null,
   "metadata": {
    "scrolled": true
   },
   "outputs": [],
   "source": [
    "logDF.head()"
   ]
  },
  {
   "cell_type": "markdown",
   "metadata": {},
   "source": [
    "## Merge log statistics with tag data"
   ]
  },
  {
   "cell_type": "code",
   "execution_count": null,
   "metadata": {
    "scrolled": true
   },
   "outputs": [],
   "source": [
    "allData = pd.merge(tagDF, logs, how='inner', left_on='Host', right_on='instance')\n",
    "allData.head()"
   ]
  },
  {
   "cell_type": "code",
   "execution_count": null,
   "metadata": {},
   "outputs": [],
   "source": [
    "# Remove instance column\n",
    "allData.drop('instance', axis=1, inplace=True)"
   ]
  },
  {
   "cell_type": "code",
   "execution_count": null,
   "metadata": {},
   "outputs": [],
   "source": [
    "# Add admin or no admin column (factor variable)\n",
    "allData['adm']=allData.Host.apply(lambda x: 1 if 'adm' in x else 0)"
   ]
  },
  {
   "cell_type": "code",
   "execution_count": null,
   "metadata": {
    "scrolled": true
   },
   "outputs": [],
   "source": [
    "allData.head()"
   ]
  },
  {
   "cell_type": "code",
   "execution_count": null,
   "metadata": {},
   "outputs": [],
   "source": [
    "allData[['Host','p_over40','type']]"
   ]
  },
  {
   "cell_type": "code",
   "execution_count": null,
   "metadata": {
    "scrolled": true
   },
   "outputs": [],
   "source": [
    "allData.describe()"
   ]
  },
  {
   "cell_type": "code",
   "execution_count": null,
   "metadata": {},
   "outputs": [],
   "source": [
    "allData.to_csv('./dataframes/allData.csv',sep=',',index=False, encoding=\"utf-8\")"
   ]
  }
 ],
 "metadata": {
  "kernelspec": {
   "display_name": "Python 3",
   "language": "python",
   "name": "python3"
  },
  "language_info": {
   "codemirror_mode": {
    "name": "ipython",
    "version": 3
   },
   "file_extension": ".py",
   "mimetype": "text/x-python",
   "name": "python",
   "nbconvert_exporter": "python",
   "pygments_lexer": "ipython3",
   "version": "3.6.5"
  }
 },
 "nbformat": 4,
 "nbformat_minor": 2
}
